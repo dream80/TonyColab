{
  "nbformat": 4,
  "nbformat_minor": 0,
  "metadata": {
    "colab": {
      "provenance": [],
      "toc_visible": true,
      "machine_shape": "hm",
      "gpuType": "A100",
      "authorship_tag": "ABX9TyPY7SuQPEY0B463HwcGkqsO",
      "include_colab_link": true
    },
    "kernelspec": {
      "name": "python3",
      "display_name": "Python 3"
    },
    "language_info": {
      "name": "python"
    },
    "accelerator": "GPU"
  },
  "cells": [
    {
      "cell_type": "markdown",
      "metadata": {
        "id": "view-in-github",
        "colab_type": "text"
      },
      "source": [
        "<a href=\"https://colab.research.google.com/github/dream80/TonyColab/blob/master/PhotoMaker.ipynb\" target=\"_parent\"><img src=\"https://colab.research.google.com/assets/colab-badge.svg\" alt=\"Open In Colab\"/></a>"
      ]
    },
    {
      "cell_type": "markdown",
      "source": [
        "一键运行，打开网页即可！  \n",
        "T4跑不动，V100显存不够，需要选A100"
      ],
      "metadata": {
        "id": "ZsdluZwe6Imo"
      }
    },
    {
      "cell_type": "markdown",
      "source": [
        "# 克隆代码\n"
      ],
      "metadata": {
        "id": "grwZGRBU6fTV"
      }
    },
    {
      "cell_type": "code",
      "execution_count": null,
      "metadata": {
        "id": "Cj1plIrdnDJG"
      },
      "outputs": [],
      "source": [
        "!git clone https://github.com/dream80/PhotoMaker.git\n",
        "%cd PhotoMaker"
      ]
    },
    {
      "cell_type": "markdown",
      "source": [
        "#安装依赖"
      ],
      "metadata": {
        "id": "WD0gMvGi6hz6"
      }
    },
    {
      "cell_type": "code",
      "source": [
        "!pip install -r requirements.txt"
      ],
      "metadata": {
        "id": "PjxVm-nAnrOq"
      },
      "execution_count": null,
      "outputs": []
    },
    {
      "cell_type": "markdown",
      "source": [
        "#运行WebUI"
      ],
      "metadata": {
        "id": "atvzJyHY6rMQ"
      }
    },
    {
      "cell_type": "code",
      "source": [
        "#真实照片\n",
        "!python app.py"
      ],
      "metadata": {
        "id": "IgbuYTvPn267"
      },
      "execution_count": null,
      "outputs": []
    },
    {
      "cell_type": "code",
      "source": [
        "#风格化照片,\n",
        "#原来的模型失效了，需要自己下载模型和Lora！\n",
        "\n",
        "#!python app_style.py"
      ],
      "metadata": {
        "id": "RPmrzXpn7BHk"
      },
      "execution_count": 4,
      "outputs": []
    }
  ]
}