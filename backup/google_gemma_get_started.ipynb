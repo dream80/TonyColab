{
  "cells": [
    {
      "cell_type": "markdown",
      "metadata": {},
      "source": [
        "<a href=\"https://colab.research.google.com/github/dream80/TonyColab/blob/master/backup/google_gemma_get_started.ipynb\" target=\"_parent\"><img src=\"https://colab.research.google.com/assets/colab-badge.svg\" alt=\"Open In Colab\"/></a>"
      ]
    },
    {
      "cell_type": "markdown",
      "metadata": {
        "id": "h1EfSJIrRzfH"
      },
      "source": [
        "# Google Gemma Get Started\n",
        "\n",
        "`Gemma` is a family of lightweight, state-of-the-art open models built from the same research and technology used to create the `Gemini` models,developed by Google DeepMind and other teams across Google.\n",
        "\n",
        "## Key details\n",
        "\n",
        "- 2 sizes: 2B and 7B, each of which is released with pre-trained and instruction-tuned variants.\n",
        "- Toolchains for inference and supervised fine-tuning (SFT) across all major frameworks: `JAX`, `PyTorch`, and `TensorFlow` through native **Keras 3.0**.\n",
        "- Ready-to-use Colab and Kaggle notebooks\n",
        "  - Colab notebook: https://ai.google.dev/gemma/docs/get_started\n",
        "- Optimization across multiple AI hardware platforms ensures industry-leading performance, including NVIDIA GPUs and Google Cloud TPUs.\n",
        "- Terms of use permit responsible commercial usage and distribution for all organizations, regardless of size.\n",
        "\n",
        "## Keras 3\n",
        "\n",
        "Keras version 3 is required to run Gemma model on Keras.\n",
        "\n",
        "Keras is a simple, flexible and powerful deep learning API written in Python and capable of running on top of either JAX, TensorFlow, or PyTorch.\n",
        "\n",
        "## Gemma on Kaggle\n",
        "\n",
        "`Kaggle` is an online community platform for data scientists and machine learning enthusiasts.\n",
        "\n",
        "We can find Gemma models information @ https://www.kaggle.com/models/google/gemma/frameworks/keras.\n",
        "\n",
        "\n",
        "\n",
        "\n",
        "\n"
      ]
    },
    {
      "cell_type": "code",
      "execution_count": null,
      "metadata": {
        "id": "rSq38qIPwBFX"
      },
      "outputs": [],
      "source": [
        "!pip install -U keras-nlp\n",
        "!pip install -U keras"
      ]
    },
    {
      "cell_type": "code",
      "execution_count": 2,
      "metadata": {
        "id": "G6Cho1nz549D"
      },
      "outputs": [],
      "source": [
        "from google.colab import userdata\n",
        "import os\n",
        "\n",
        "os.environ[\"KAGGLE_USERNAME\"] = userdata.get('KAGGLE_USERNAME')\n",
        "os.environ[\"KAGGLE_KEY\"] = userdata.get('KAGGLE_KEY')\n",
        "\n",
        "def generate_kaggle_json():\n",
        "  username = userdata.get(\"KAGGLE_USERNAME\")\n",
        "  key = userdata.get(\"KAGGLE_KEY\")\n",
        "\n",
        "  home_dir = os.path.expanduser(\"~\")\n",
        "  dot_kaggle_dir = f\"{home_dir}/.kaggle\"\n",
        "\n",
        "  if not os.path.exists(dot_kaggle_dir) or not os.path.isdir(dot_kaggle_dir):\n",
        "     os.makedirs(dot_kaggle_dir)\n",
        "\n",
        "  with open(f\"{dot_kaggle_dir}/kaggle.json\", \"w\") as file:\n",
        "    file.write('{\"username\":\"' + username + '\",\"key\":\"' + key + '\"}')\n"
      ]
    },
    {
      "cell_type": "code",
      "execution_count": 3,
      "metadata": {
        "id": "08lFr9Hi7wjO"
      },
      "outputs": [],
      "source": [
        "# generate_kaggle_json()"
      ]
    },
    {
      "cell_type": "code",
      "execution_count": 4,
      "metadata": {
        "id": "Ty7VqJWXwGIv"
      },
      "outputs": [],
      "source": [
        "import keras\n",
        "import keras_nlp\n",
        "import numpy as np"
      ]
    },
    {
      "cell_type": "code",
      "execution_count": 5,
      "metadata": {
        "colab": {
          "base_uri": "https://localhost:8080/"
        },
        "id": "f8KUp23y-szu",
        "outputId": "1b462a29-5ba5-4252-ba68-a0291358f0a2"
      },
      "outputs": [
        {
          "name": "stdout",
          "output_type": "stream",
          "text": [
            "3.0.5\n"
          ]
        }
      ],
      "source": [
        "print(keras.__version__)"
      ]
    },
    {
      "cell_type": "code",
      "execution_count": null,
      "metadata": {
        "id": "9LqUwDEKxtcc"
      },
      "outputs": [],
      "source": [
        "gemma_lm = keras_nlp.models.GemmaCausalLM.from_preset(\"gemma_instruct_2b_en\")\n",
        "gemma_lm.generate(\"Keras is a\", max_length=30)"
      ]
    },
    {
      "cell_type": "markdown",
      "metadata": {
        "id": "W_C0ZAKmXf5w"
      },
      "source": [
        "### Batch Prompts"
      ]
    },
    {
      "cell_type": "code",
      "execution_count": 7,
      "metadata": {
        "colab": {
          "base_uri": "https://localhost:8080/"
        },
        "id": "2MQHqANrXTmo",
        "outputId": "10ac83cf-6274-4e8c-aa81-9c2664523446"
      },
      "outputs": [
        {
          "data": {
            "text/plain": [
              "['Keras is a deep learning library for Python that provides a wide range of tools and functionalities for building, training, and evaluating deep learning models.',\n",
              " 'The sky is blue because of Rayleigh scattering. Rayleigh scattering is the scattering of light by particles of a similar size to the wavelength of light. In']"
            ]
          },
          "execution_count": 7,
          "metadata": {},
          "output_type": "execute_result"
        }
      ],
      "source": [
        "gemma_lm.generate([\"Keras is a\", \"The sky is blue because\"], max_length=30)"
      ]
    },
    {
      "cell_type": "markdown",
      "metadata": {
        "id": "cMwd_BgCYA4x"
      },
      "source": [
        "### Different Sampler\n",
        "\n",
        "By default, `greedy` sampling is used for GemmaCausalLM. Let's switch it to `top_k`."
      ]
    },
    {
      "cell_type": "code",
      "execution_count": 8,
      "metadata": {
        "colab": {
          "base_uri": "https://localhost:8080/",
          "height": 53
        },
        "id": "2dzNkyw3YSH8",
        "outputId": "d42579e1-905d-46da-eeed-58110f9003dd"
      },
      "outputs": [
        {
          "data": {
            "application/vnd.google.colaboratory.intrinsic+json": {
              "type": "string"
            },
            "text/plain": [
              "'Premier league is the best league in Europe because:\\n\\n1. The league has more top-tier teams.\\n2. The league is more competitive.\\n3. The league has a rich history.\\n4. The league has a global reach.\\n5. The league provides a platform for young players.'"
            ]
          },
          "execution_count": 8,
          "metadata": {},
          "output_type": "execute_result"
        }
      ],
      "source": [
        "gemma_lm.compile(sampler=\"top_k\")\n",
        "gemma_lm.generate(\"Premier league is the best league in Europe because\", max_length=64)"
      ]
    }
  ],
  "metadata": {
    "accelerator": "GPU",
    "colab": {
      "gpuType": "T4",
      "provenance": []
    },
    "kernelspec": {
      "display_name": "Python 3",
      "name": "python3"
    },
    "language_info": {
      "name": "python"
    }
  },
  "nbformat": 4,
  "nbformat_minor": 0
}
