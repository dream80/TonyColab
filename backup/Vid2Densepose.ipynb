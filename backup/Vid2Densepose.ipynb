{
  "nbformat": 4,
  "nbformat_minor": 0,
  "metadata": {
    "colab": {
      "provenance": [],
      "gpuType": "T4",
      "collapsed_sections": [
        "bVBK3lFMMOaL"
      ],
      "include_colab_link": true
    },
    "kernelspec": {
      "name": "python3",
      "display_name": "Python 3"
    },
    "language_info": {
      "name": "python"
    },
    "accelerator": "GPU"
  },
  "cells": [
    {
      "cell_type": "markdown",
      "metadata": {
        "id": "view-in-github",
        "colab_type": "text"
      },
      "source": [
        "<a href=\"https://colab.research.google.com/github/dream80/TonyColab/blob/master/Vid2Densepose.ipynb\" target=\"_parent\"><img src=\"https://colab.research.google.com/assets/colab-badge.svg\" alt=\"Open In Colab\"/></a>"
      ]
    },
    {
      "cell_type": "markdown",
      "source": [
        "#**Vid2DensePose by Flode Labs**\n",
        "Convert your videos easily to Densepose sequences\n",
        "\n",
        "If you have any problem with the colab let us know via [X.com](https://x.com/flodelabs)"
      ],
      "metadata": {
        "id": "rLO1nxaQMGUg"
      }
    },
    {
      "cell_type": "markdown",
      "source": [
        "##**Install the libraries**"
      ],
      "metadata": {
        "id": "bVBK3lFMMOaL"
      }
    },
    {
      "cell_type": "code",
      "execution_count": null,
      "metadata": {
        "colab": {
          "base_uri": "https://localhost:8080/"
        },
        "id": "bobO-YZwJRm0",
        "outputId": "c8dc87b9-7d98-42c1-8eb3-597c9cc45694"
      },
      "outputs": [
        {
          "output_type": "stream",
          "name": "stdout",
          "text": [
            "Cloning into 'detectron2'...\n",
            "remote: Enumerating objects: 15285, done.\u001b[K\n",
            "remote: Counting objects: 100% (10/10), done.\u001b[K\n",
            "remote: Compressing objects: 100% (10/10), done.\u001b[K\n",
            "remote: Total 15285 (delta 2), reused 6 (delta 0), pack-reused 15275\u001b[K\n",
            "Receiving objects: 100% (15285/15285), 6.18 MiB | 15.66 MiB/s, done.\n",
            "Resolving deltas: 100% (11113/11113), done.\n"
          ]
        }
      ],
      "source": [
        "!git clone https://github.com/facebookresearch/detectron2.git"
      ]
    },
    {
      "cell_type": "code",
      "source": [
        "!pip install torch==2.1.0 torchvision==0.16.0 opencv-python git+https://github.com/facebookresearch/detectron2@main#subdirectory=projects/DensePose"
      ],
      "metadata": {
        "colab": {
          "base_uri": "https://localhost:8080/",
          "height": 1000
        },
        "id": "zQepGD5EJeUS",
        "outputId": "0271c618-0a9b-4f80-f828-9a4f1bf8311e"
      },
      "execution_count": null,
      "outputs": [
        {
          "output_type": "stream",
          "name": "stdout",
          "text": [
            "Collecting git+https://github.com/facebookresearch/detectron2@main#subdirectory=projects/DensePose\n",
            "  Cloning https://github.com/facebookresearch/detectron2 (to revision main) to /tmp/pip-req-build-0ulbl3jz\n",
            "  Running command git clone --filter=blob:none --quiet https://github.com/facebookresearch/detectron2 /tmp/pip-req-build-0ulbl3jz\n",
            "  Resolved https://github.com/facebookresearch/detectron2 to commit 5de5319a49e7ea819586d3d6a817632392dfdeb2\n",
            "  Preparing metadata (setup.py) ... \u001b[?25l\u001b[?25hdone\n",
            "Requirement already satisfied: torch==2.1.0 in /usr/local/lib/python3.10/dist-packages (2.1.0+cu118)\n",
            "Requirement already satisfied: torchvision==0.16.0 in /usr/local/lib/python3.10/dist-packages (0.16.0+cu118)\n",
            "Requirement already satisfied: opencv-python in /usr/local/lib/python3.10/dist-packages (4.8.0.76)\n",
            "Requirement already satisfied: filelock in /usr/local/lib/python3.10/dist-packages (from torch==2.1.0) (3.13.1)\n",
            "Requirement already satisfied: typing-extensions in /usr/local/lib/python3.10/dist-packages (from torch==2.1.0) (4.5.0)\n",
            "Requirement already satisfied: sympy in /usr/local/lib/python3.10/dist-packages (from torch==2.1.0) (1.12)\n",
            "Requirement already satisfied: networkx in /usr/local/lib/python3.10/dist-packages (from torch==2.1.0) (3.2.1)\n",
            "Requirement already satisfied: jinja2 in /usr/local/lib/python3.10/dist-packages (from torch==2.1.0) (3.1.2)\n",
            "Requirement already satisfied: fsspec in /usr/local/lib/python3.10/dist-packages (from torch==2.1.0) (2023.6.0)\n",
            "Requirement already satisfied: triton==2.1.0 in /usr/local/lib/python3.10/dist-packages (from torch==2.1.0) (2.1.0)\n",
            "Requirement already satisfied: numpy in /usr/local/lib/python3.10/dist-packages (from torchvision==0.16.0) (1.23.5)\n",
            "Requirement already satisfied: requests in /usr/local/lib/python3.10/dist-packages (from torchvision==0.16.0) (2.31.0)\n",
            "Requirement already satisfied: pillow!=8.3.*,>=5.3.0 in /usr/local/lib/python3.10/dist-packages (from torchvision==0.16.0) (9.4.0)\n",
            "Collecting detectron2@ git+https://github.com/facebookresearch/detectron2.git (from detectron2-densepose==0.6)\n",
            "  Cloning https://github.com/facebookresearch/detectron2.git to /tmp/pip-install-hlxvxaia/detectron2_98f6de916c98459eaa28eebd2bffd76c\n",
            "  Running command git clone --filter=blob:none --quiet https://github.com/facebookresearch/detectron2.git /tmp/pip-install-hlxvxaia/detectron2_98f6de916c98459eaa28eebd2bffd76c\n",
            "  Resolved https://github.com/facebookresearch/detectron2.git to commit 5de5319a49e7ea819586d3d6a817632392dfdeb2\n",
            "  Preparing metadata (setup.py) ... \u001b[?25l\u001b[?25hdone\n",
            "Collecting av>=8.0.3 (from detectron2-densepose==0.6)\n",
            "  Downloading av-11.0.0-cp310-cp310-manylinux_2_17_x86_64.manylinux2014_x86_64.whl (32.9 MB)\n",
            "\u001b[2K     \u001b[90m━━━━━━━━━━━━━━━━━━━━━━━━━━━━━━━━━━━━━━━━\u001b[0m \u001b[32m32.9/32.9 MB\u001b[0m \u001b[31m40.5 MB/s\u001b[0m eta \u001b[36m0:00:00\u001b[0m\n",
            "\u001b[?25hRequirement already satisfied: opencv-python-headless>=4.5.3.56 in /usr/local/lib/python3.10/dist-packages (from detectron2-densepose==0.6) (4.8.1.78)\n",
            "Requirement already satisfied: scipy>=1.5.4 in /usr/local/lib/python3.10/dist-packages (from detectron2-densepose==0.6) (1.11.4)\n",
            "Requirement already satisfied: matplotlib in /usr/local/lib/python3.10/dist-packages (from detectron2@ git+https://github.com/facebookresearch/detectron2.git->detectron2-densepose==0.6) (3.7.1)\n",
            "Requirement already satisfied: pycocotools>=2.0.2 in /usr/local/lib/python3.10/dist-packages (from detectron2@ git+https://github.com/facebookresearch/detectron2.git->detectron2-densepose==0.6) (2.0.7)\n",
            "Requirement already satisfied: termcolor>=1.1 in /usr/local/lib/python3.10/dist-packages (from detectron2@ git+https://github.com/facebookresearch/detectron2.git->detectron2-densepose==0.6) (2.3.0)\n",
            "Collecting yacs>=0.1.8 (from detectron2@ git+https://github.com/facebookresearch/detectron2.git->detectron2-densepose==0.6)\n",
            "  Downloading yacs-0.1.8-py3-none-any.whl (14 kB)\n",
            "Requirement already satisfied: tabulate in /usr/local/lib/python3.10/dist-packages (from detectron2@ git+https://github.com/facebookresearch/detectron2.git->detectron2-densepose==0.6) (0.9.0)\n",
            "Requirement already satisfied: cloudpickle in /usr/local/lib/python3.10/dist-packages (from detectron2@ git+https://github.com/facebookresearch/detectron2.git->detectron2-densepose==0.6) (2.2.1)\n",
            "Requirement already satisfied: tqdm>4.29.0 in /usr/local/lib/python3.10/dist-packages (from detectron2@ git+https://github.com/facebookresearch/detectron2.git->detectron2-densepose==0.6) (4.66.1)\n",
            "Requirement already satisfied: tensorboard in /usr/local/lib/python3.10/dist-packages (from detectron2@ git+https://github.com/facebookresearch/detectron2.git->detectron2-densepose==0.6) (2.14.1)\n",
            "Collecting fvcore<0.1.6,>=0.1.5 (from detectron2@ git+https://github.com/facebookresearch/detectron2.git->detectron2-densepose==0.6)\n",
            "  Downloading fvcore-0.1.5.post20221221.tar.gz (50 kB)\n",
            "\u001b[2K     \u001b[90m━━━━━━━━━━━━━━━━━━━━━━━━━━━━━━━━━━━━━━━━\u001b[0m \u001b[32m50.2/50.2 kB\u001b[0m \u001b[31m7.2 MB/s\u001b[0m eta \u001b[36m0:00:00\u001b[0m\n",
            "\u001b[?25h  Preparing metadata (setup.py) ... \u001b[?25l\u001b[?25hdone\n",
            "Collecting iopath<0.1.10,>=0.1.7 (from detectron2@ git+https://github.com/facebookresearch/detectron2.git->detectron2-densepose==0.6)\n",
            "  Downloading iopath-0.1.9-py3-none-any.whl (27 kB)\n",
            "Collecting omegaconf<2.4,>=2.1 (from detectron2@ git+https://github.com/facebookresearch/detectron2.git->detectron2-densepose==0.6)\n",
            "  Downloading omegaconf-2.3.0-py3-none-any.whl (79 kB)\n",
            "\u001b[2K     \u001b[90m━━━━━━━━━━━━━━━━━━━━━━━━━━━━━━━━━━━━━━━━\u001b[0m \u001b[32m79.5/79.5 kB\u001b[0m \u001b[31m12.3 MB/s\u001b[0m eta \u001b[36m0:00:00\u001b[0m\n",
            "\u001b[?25hCollecting hydra-core>=1.1 (from detectron2@ git+https://github.com/facebookresearch/detectron2.git->detectron2-densepose==0.6)\n",
            "  Downloading hydra_core-1.3.2-py3-none-any.whl (154 kB)\n",
            "\u001b[2K     \u001b[90m━━━━━━━━━━━━━━━━━━━━━━━━━━━━━━━━━━━━━━━━\u001b[0m \u001b[32m154.5/154.5 kB\u001b[0m \u001b[31m23.4 MB/s\u001b[0m eta \u001b[36m0:00:00\u001b[0m\n",
            "\u001b[?25hCollecting black (from detectron2@ git+https://github.com/facebookresearch/detectron2.git->detectron2-densepose==0.6)\n",
            "  Downloading black-23.11.0-cp310-cp310-manylinux_2_17_x86_64.manylinux2014_x86_64.whl (1.7 MB)\n",
            "\u001b[2K     \u001b[90m━━━━━━━━━━━━━━━━━━━━━━━━━━━━━━━━━━━━━━━━\u001b[0m \u001b[32m1.7/1.7 MB\u001b[0m \u001b[31m82.4 MB/s\u001b[0m eta \u001b[36m0:00:00\u001b[0m\n",
            "\u001b[?25hRequirement already satisfied: packaging in /usr/local/lib/python3.10/dist-packages (from detectron2@ git+https://github.com/facebookresearch/detectron2.git->detectron2-densepose==0.6) (23.2)\n",
            "Requirement already satisfied: MarkupSafe>=2.0 in /usr/local/lib/python3.10/dist-packages (from jinja2->torch==2.1.0) (2.1.3)\n",
            "Requirement already satisfied: charset-normalizer<4,>=2 in /usr/local/lib/python3.10/dist-packages (from requests->torchvision==0.16.0) (3.3.2)\n",
            "Requirement already satisfied: idna<4,>=2.5 in /usr/local/lib/python3.10/dist-packages (from requests->torchvision==0.16.0) (3.6)\n",
            "Requirement already satisfied: urllib3<3,>=1.21.1 in /usr/local/lib/python3.10/dist-packages (from requests->torchvision==0.16.0) (2.0.7)\n",
            "Requirement already satisfied: certifi>=2017.4.17 in /usr/local/lib/python3.10/dist-packages (from requests->torchvision==0.16.0) (2023.11.17)\n",
            "Requirement already satisfied: mpmath>=0.19 in /usr/local/lib/python3.10/dist-packages (from sympy->torch==2.1.0) (1.3.0)\n",
            "Requirement already satisfied: pyyaml>=5.1 in /usr/local/lib/python3.10/dist-packages (from fvcore<0.1.6,>=0.1.5->detectron2@ git+https://github.com/facebookresearch/detectron2.git->detectron2-densepose==0.6) (6.0.1)\n",
            "Collecting antlr4-python3-runtime==4.9.* (from hydra-core>=1.1->detectron2@ git+https://github.com/facebookresearch/detectron2.git->detectron2-densepose==0.6)\n",
            "  Downloading antlr4-python3-runtime-4.9.3.tar.gz (117 kB)\n",
            "\u001b[2K     \u001b[90m━━━━━━━━━━━━━━━━━━━━━━━━━━━━━━━━━━━━━━━━\u001b[0m \u001b[32m117.0/117.0 kB\u001b[0m \u001b[31m17.6 MB/s\u001b[0m eta \u001b[36m0:00:00\u001b[0m\n",
            "\u001b[?25h  Preparing metadata (setup.py) ... \u001b[?25l\u001b[?25hdone\n",
            "Collecting portalocker (from iopath<0.1.10,>=0.1.7->detectron2@ git+https://github.com/facebookresearch/detectron2.git->detectron2-densepose==0.6)\n",
            "  Downloading portalocker-2.8.2-py3-none-any.whl (17 kB)\n",
            "Requirement already satisfied: contourpy>=1.0.1 in /usr/local/lib/python3.10/dist-packages (from matplotlib->detectron2@ git+https://github.com/facebookresearch/detectron2.git->detectron2-densepose==0.6) (1.2.0)\n",
            "Requirement already satisfied: cycler>=0.10 in /usr/local/lib/python3.10/dist-packages (from matplotlib->detectron2@ git+https://github.com/facebookresearch/detectron2.git->detectron2-densepose==0.6) (0.12.1)\n",
            "Requirement already satisfied: fonttools>=4.22.0 in /usr/local/lib/python3.10/dist-packages (from matplotlib->detectron2@ git+https://github.com/facebookresearch/detectron2.git->detectron2-densepose==0.6) (4.45.1)\n",
            "Requirement already satisfied: kiwisolver>=1.0.1 in /usr/local/lib/python3.10/dist-packages (from matplotlib->detectron2@ git+https://github.com/facebookresearch/detectron2.git->detectron2-densepose==0.6) (1.4.5)\n",
            "Requirement already satisfied: pyparsing>=2.3.1 in /usr/local/lib/python3.10/dist-packages (from matplotlib->detectron2@ git+https://github.com/facebookresearch/detectron2.git->detectron2-densepose==0.6) (3.1.1)\n",
            "Requirement already satisfied: python-dateutil>=2.7 in /usr/local/lib/python3.10/dist-packages (from matplotlib->detectron2@ git+https://github.com/facebookresearch/detectron2.git->detectron2-densepose==0.6) (2.8.2)\n",
            "Requirement already satisfied: click>=8.0.0 in /usr/local/lib/python3.10/dist-packages (from black->detectron2@ git+https://github.com/facebookresearch/detectron2.git->detectron2-densepose==0.6) (8.1.7)\n",
            "Collecting mypy-extensions>=0.4.3 (from black->detectron2@ git+https://github.com/facebookresearch/detectron2.git->detectron2-densepose==0.6)\n",
            "  Downloading mypy_extensions-1.0.0-py3-none-any.whl (4.7 kB)\n",
            "Collecting pathspec>=0.9.0 (from black->detectron2@ git+https://github.com/facebookresearch/detectron2.git->detectron2-densepose==0.6)\n",
            "  Downloading pathspec-0.11.2-py3-none-any.whl (29 kB)\n",
            "Requirement already satisfied: platformdirs>=2 in /usr/local/lib/python3.10/dist-packages (from black->detectron2@ git+https://github.com/facebookresearch/detectron2.git->detectron2-densepose==0.6) (4.0.0)\n",
            "Requirement already satisfied: tomli>=1.1.0 in /usr/local/lib/python3.10/dist-packages (from black->detectron2@ git+https://github.com/facebookresearch/detectron2.git->detectron2-densepose==0.6) (2.0.1)\n",
            "Requirement already satisfied: absl-py>=0.4 in /usr/local/lib/python3.10/dist-packages (from tensorboard->detectron2@ git+https://github.com/facebookresearch/detectron2.git->detectron2-densepose==0.6) (1.4.0)\n",
            "Requirement already satisfied: grpcio>=1.48.2 in /usr/local/lib/python3.10/dist-packages (from tensorboard->detectron2@ git+https://github.com/facebookresearch/detectron2.git->detectron2-densepose==0.6) (1.59.3)\n",
            "Requirement already satisfied: google-auth<3,>=1.6.3 in /usr/local/lib/python3.10/dist-packages (from tensorboard->detectron2@ git+https://github.com/facebookresearch/detectron2.git->detectron2-densepose==0.6) (2.17.3)\n",
            "Requirement already satisfied: google-auth-oauthlib<1.1,>=0.5 in /usr/local/lib/python3.10/dist-packages (from tensorboard->detectron2@ git+https://github.com/facebookresearch/detectron2.git->detectron2-densepose==0.6) (1.0.0)\n",
            "Requirement already satisfied: markdown>=2.6.8 in /usr/local/lib/python3.10/dist-packages (from tensorboard->detectron2@ git+https://github.com/facebookresearch/detectron2.git->detectron2-densepose==0.6) (3.5.1)\n",
            "Requirement already satisfied: protobuf>=3.19.6 in /usr/local/lib/python3.10/dist-packages (from tensorboard->detectron2@ git+https://github.com/facebookresearch/detectron2.git->detectron2-densepose==0.6) (3.20.3)\n",
            "Requirement already satisfied: setuptools>=41.0.0 in /usr/local/lib/python3.10/dist-packages (from tensorboard->detectron2@ git+https://github.com/facebookresearch/detectron2.git->detectron2-densepose==0.6) (67.7.2)\n",
            "Requirement already satisfied: six>1.9 in /usr/local/lib/python3.10/dist-packages (from tensorboard->detectron2@ git+https://github.com/facebookresearch/detectron2.git->detectron2-densepose==0.6) (1.16.0)\n",
            "Requirement already satisfied: tensorboard-data-server<0.8.0,>=0.7.0 in /usr/local/lib/python3.10/dist-packages (from tensorboard->detectron2@ git+https://github.com/facebookresearch/detectron2.git->detectron2-densepose==0.6) (0.7.2)\n",
            "Requirement already satisfied: werkzeug>=1.0.1 in /usr/local/lib/python3.10/dist-packages (from tensorboard->detectron2@ git+https://github.com/facebookresearch/detectron2.git->detectron2-densepose==0.6) (3.0.1)\n",
            "Requirement already satisfied: cachetools<6.0,>=2.0.0 in /usr/local/lib/python3.10/dist-packages (from google-auth<3,>=1.6.3->tensorboard->detectron2@ git+https://github.com/facebookresearch/detectron2.git->detectron2-densepose==0.6) (5.3.2)\n",
            "Requirement already satisfied: pyasn1-modules>=0.2.1 in /usr/local/lib/python3.10/dist-packages (from google-auth<3,>=1.6.3->tensorboard->detectron2@ git+https://github.com/facebookresearch/detectron2.git->detectron2-densepose==0.6) (0.3.0)\n",
            "Requirement already satisfied: rsa<5,>=3.1.4 in /usr/local/lib/python3.10/dist-packages (from google-auth<3,>=1.6.3->tensorboard->detectron2@ git+https://github.com/facebookresearch/detectron2.git->detectron2-densepose==0.6) (4.9)\n",
            "Requirement already satisfied: requests-oauthlib>=0.7.0 in /usr/local/lib/python3.10/dist-packages (from google-auth-oauthlib<1.1,>=0.5->tensorboard->detectron2@ git+https://github.com/facebookresearch/detectron2.git->detectron2-densepose==0.6) (1.3.1)\n",
            "Requirement already satisfied: pyasn1<0.6.0,>=0.4.6 in /usr/local/lib/python3.10/dist-packages (from pyasn1-modules>=0.2.1->google-auth<3,>=1.6.3->tensorboard->detectron2@ git+https://github.com/facebookresearch/detectron2.git->detectron2-densepose==0.6) (0.5.1)\n",
            "Requirement already satisfied: oauthlib>=3.0.0 in /usr/local/lib/python3.10/dist-packages (from requests-oauthlib>=0.7.0->google-auth-oauthlib<1.1,>=0.5->tensorboard->detectron2@ git+https://github.com/facebookresearch/detectron2.git->detectron2-densepose==0.6) (3.2.2)\n",
            "Building wheels for collected packages: detectron2-densepose, detectron2, fvcore, antlr4-python3-runtime\n",
            "  Building wheel for detectron2-densepose (setup.py) ... \u001b[?25l\u001b[?25hdone\n",
            "  Created wheel for detectron2-densepose: filename=detectron2_densepose-0.6-py3-none-any.whl size=175889 sha256=faaa8f5b4974b9c9f9240496e1d063265f1cff89243ddaf6b3580337eb8683ed\n",
            "  Stored in directory: /tmp/pip-ephem-wheel-cache-hav6cjqo/wheels/b0/98/56/b28f701cfab811368abde18628e7d23cf474928f6fc8a9e5ee\n",
            "  Building wheel for detectron2 (setup.py) ... \u001b[?25l\u001b[?25hdone\n",
            "  Created wheel for detectron2: filename=detectron2-0.6-cp310-cp310-linux_x86_64.whl size=6118860 sha256=3b5ee67902dfc29136971628bd2c3bd5693c1c84aa1732c42721a04f4b411b00\n",
            "  Stored in directory: /tmp/pip-ephem-wheel-cache-hav6cjqo/wheels/47/e5/15/94c80df2ba85500c5d76599cc307c0a7079d0e221bb6fc4375\n",
            "  Building wheel for fvcore (setup.py) ... \u001b[?25l\u001b[?25hdone\n",
            "  Created wheel for fvcore: filename=fvcore-0.1.5.post20221221-py3-none-any.whl size=61400 sha256=adea28e6b4932b32a736ebf6482254b8ec44990166aef34adba8f7fce3344e20\n",
            "  Stored in directory: /root/.cache/pip/wheels/01/c0/af/77c1cf53a1be9e42a52b48e5af2169d40ec2e89f7362489dd0\n",
            "  Building wheel for antlr4-python3-runtime (setup.py) ... \u001b[?25l\u001b[?25hdone\n",
            "  Created wheel for antlr4-python3-runtime: filename=antlr4_python3_runtime-4.9.3-py3-none-any.whl size=144554 sha256=686094062deea48b42bbc3d4335336f01edddde5e1155e2507dd6cad8f64e23c\n",
            "  Stored in directory: /root/.cache/pip/wheels/12/93/dd/1f6a127edc45659556564c5730f6d4e300888f4bca2d4c5a88\n",
            "Successfully built detectron2-densepose detectron2 fvcore antlr4-python3-runtime\n",
            "Installing collected packages: antlr4-python3-runtime, yacs, portalocker, pathspec, omegaconf, mypy-extensions, av, iopath, hydra-core, black, fvcore, detectron2, detectron2-densepose\n",
            "Successfully installed antlr4-python3-runtime-4.9.3 av-11.0.0 black-23.11.0 detectron2-0.6 detectron2-densepose-0.6 fvcore-0.1.5.post20221221 hydra-core-1.3.2 iopath-0.1.9 mypy-extensions-1.0.0 omegaconf-2.3.0 pathspec-0.11.2 portalocker-2.8.2 yacs-0.1.8\n"
          ]
        },
        {
          "output_type": "display_data",
          "data": {
            "application/vnd.colab-display-data+json": {
              "pip_warning": {
                "packages": [
                  "pydevd_plugins"
                ]
              }
            }
          },
          "metadata": {}
        }
      ]
    },
    {
      "cell_type": "markdown",
      "source": [
        "##**Convert your videos**"
      ],
      "metadata": {
        "id": "uAXx0W25MWX3"
      }
    },
    {
      "cell_type": "markdown",
      "source": [
        "Upload the video you want to convert pressing the top left icon on the files section and then especify its name and the output name you desired on the next step.\n",
        "\n",
        " ![image.png](data:image/png;base64,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)"
      ],
      "metadata": {
        "id": "M3lJL9nxNP7D"
      }
    },
    {
      "cell_type": "code",
      "source": [
        "from detectron2.config import get_cfg\n",
        "import torch\n",
        "import cv2\n",
        "import numpy as np\n",
        "from detectron2.engine import DefaultPredictor\n",
        "from densepose import add_densepose_config\n",
        "from densepose.vis.extractor import DensePoseResultExtractor\n",
        "from densepose.vis.densepose_results import DensePoseResultsFineSegmentationVisualizer as Visualizer\n",
        "\n",
        "# Initialize Detectron2 configuration for DensePose\n",
        "cfg = get_cfg()\n",
        "add_densepose_config(cfg)\n",
        "cfg.merge_from_file(\"detectron2/projects/DensePose/configs/densepose_rcnn_R_50_FPN_s1x.yaml\")\n",
        "cfg.MODEL.WEIGHTS = \"https://dl.fbaipublicfiles.com/densepose/densepose_rcnn_R_50_FPN_s1x/165712039/model_final_162be9.pkl\"\n",
        "predictor = DefaultPredictor(cfg)\n",
        "\n",
        "# Video paths\n",
        "INPUT_VIDEO_PATH = \"./input_video.mp4\" #@param {type:\"raw\"}\n",
        "OUTPUT_VIDEO_PATH = \"./output_video.mp4\" #@param {type:\"raw\"}\n",
        "\n",
        "# Open the input video\n",
        "cap = cv2.VideoCapture(INPUT_VIDEO_PATH)\n",
        "fps = cap.get(cv2.CAP_PROP_FPS)\n",
        "width = int(cap.get(cv2.CAP_PROP_FRAME_WIDTH))\n",
        "height = int(cap.get(cv2.CAP_PROP_FRAME_HEIGHT))\n",
        "\n",
        "# Initialize video writer\n",
        "fourcc = cv2.VideoWriter_fourcc(*'mp4v')\n",
        "out = cv2.VideoWriter(OUTPUT_VIDEO_PATH, fourcc, fps, (width, height))\n",
        "\n",
        "# Process each frame\n",
        "while cap.isOpened():\n",
        "    ret, frame = cap.read()\n",
        "    if not ret:\n",
        "        break\n",
        "\n",
        "    with torch.no_grad():\n",
        "        outputs = predictor(frame)['instances']\n",
        "\n",
        "    results = DensePoseResultExtractor()(outputs)\n",
        "    cmap = cv2.COLORMAP_VIRIDIS\n",
        "    # Visualizer outputs black for background, but we want the 0 value of\n",
        "    # the colormap, so we initialize the array with that value\n",
        "    arr = cv2.applyColorMap(np.zeros((height, width), dtype=np.uint8), cmap)\n",
        "    out_frame = Visualizer(alpha=1, cmap=cmap).visualize(arr, results)\n",
        "    out.write(out_frame)\n",
        "\n",
        "# Release resources\n",
        "cap.release()\n",
        "out.release()\n"
      ],
      "metadata": {
        "colab": {
          "base_uri": "https://localhost:8080/"
        },
        "id": "k1ak_mbRJlpV",
        "outputId": "896d15aa-6d93-48ec-cb8d-b564cfc2ee19"
      },
      "execution_count": null,
      "outputs": [
        {
          "output_type": "stream",
          "name": "stderr",
          "text": [
            "model_final_162be9.pkl: 256MB [00:01, 225MB/s]                           \n",
            "/usr/local/lib/python3.10/dist-packages/torch/functional.py:504: UserWarning: torch.meshgrid: in an upcoming release, it will be required to pass the indexing argument. (Triggered internally at ../aten/src/ATen/native/TensorShape.cpp:3526.)\n",
            "  return _VF.meshgrid(tensors, **kwargs)  # type: ignore[attr-defined]\n"
          ]
        }
      ]
    }
  ]
}